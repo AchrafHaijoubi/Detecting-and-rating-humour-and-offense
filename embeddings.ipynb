{
 "cells": [
  {
   "cell_type": "code",
   "id": "initial_id",
   "metadata": {
    "collapsed": true,
    "ExecuteTime": {
     "end_time": "2025-03-14T04:26:58.859272Z",
     "start_time": "2025-03-14T04:26:58.854267Z"
    }
   },
   "source": [
    "import pandas as pd\n",
    "import spacy\n",
    "from transformers import BertTokenizer, BertModel\n",
    "import torch"
   ],
   "outputs": [],
   "execution_count": 2
  },
  {
   "metadata": {
    "ExecuteTime": {
     "end_time": "2025-03-14T04:27:00.489481Z",
     "start_time": "2025-03-14T04:27:00.365768Z"
    }
   },
   "cell_type": "code",
   "source": "df = pd.read_csv(\"dataset_annotated_balanced.csv\")\n",
   "id": "b020de3e0cf7dbae",
   "outputs": [],
   "execution_count": 3
  },
  {
   "metadata": {
    "ExecuteTime": {
     "end_time": "2025-03-14T04:27:03.963219Z",
     "start_time": "2025-03-14T04:27:01.520547Z"
    }
   },
   "cell_type": "code",
   "source": [
    "# Load spaCy model for tokenization & lemmatization\n",
    "nlp = spacy.load(\"en_core_web_sm\")"
   ],
   "id": "d9039082d248cf3d",
   "outputs": [],
   "execution_count": 4
  },
  {
   "metadata": {
    "ExecuteTime": {
     "end_time": "2025-03-14T04:27:11.078323Z",
     "start_time": "2025-03-14T04:27:11.073320Z"
    }
   },
   "cell_type": "code",
   "source": [
    "def preprocess_text(text):\n",
    "    \"\"\"Tokenization and Lemmatization using spaCy\"\"\"\n",
    "    doc = nlp(text)\n",
    "    return \" \".join([token.lemma_ for token in doc if not token.is_stop])  # Remove stopwords"
   ],
   "id": "d4a8fbb42cc39b88",
   "outputs": [],
   "execution_count": 5
  },
  {
   "metadata": {
    "ExecuteTime": {
     "end_time": "2025-03-14T04:28:12.892928Z",
     "start_time": "2025-03-14T04:27:19.835107Z"
    }
   },
   "cell_type": "code",
   "source": [
    "# Apply preprocessing\n",
    "df[\"Joke_Cleaned\"] = df[\"Joke\"].astype(str).apply(preprocess_text)"
   ],
   "id": "bab3ffdbf65da955",
   "outputs": [],
   "execution_count": 6
  },
  {
   "metadata": {
    "ExecuteTime": {
     "end_time": "2025-03-14T04:28:26.242424Z",
     "start_time": "2025-03-14T04:28:26.040166Z"
    }
   },
   "cell_type": "code",
   "source": [
    "# Load BERT model & tokenizer\n",
    "tokenizer = BertTokenizer.from_pretrained(\"bert-base-uncased\")\n",
    "model = BertModel.from_pretrained(\"bert-base-uncased\")"
   ],
   "id": "5aa3f2d02a7f1100",
   "outputs": [],
   "execution_count": 7
  },
  {
   "metadata": {
    "ExecuteTime": {
     "end_time": "2025-03-14T04:28:28.167807Z",
     "start_time": "2025-03-14T04:28:28.164808Z"
    }
   },
   "cell_type": "code",
   "source": [
    "def get_bert_embedding(text):\n",
    "    \"\"\"Extracts BERT embeddings for a given text\"\"\"\n",
    "    inputs = tokenizer(text, return_tensors=\"pt\", truncation=True, padding=True, max_length=128)\n",
    "    with torch.no_grad():\n",
    "        outputs = model(**inputs)\n",
    "    return outputs.last_hidden_state.mean(dim=1).squeeze().numpy()  # Mean pooling\n"
   ],
   "id": "ca895c78036ab967",
   "outputs": [],
   "execution_count": 8
  },
  {
   "metadata": {
    "ExecuteTime": {
     "end_time": "2025-03-14T04:36:09.221169Z",
     "start_time": "2025-03-14T04:28:31.220409Z"
    }
   },
   "cell_type": "code",
   "source": [
    "# Apply embedding extraction\n",
    "df[\"BERT_Embedding\"] = df[\"Joke_Cleaned\"].apply(get_bert_embedding)"
   ],
   "id": "f2f38f2fab5b57d8",
   "outputs": [],
   "execution_count": 9
  },
  {
   "metadata": {
    "ExecuteTime": {
     "end_time": "2025-03-14T04:36:38.348733Z",
     "start_time": "2025-03-14T04:36:09.227177Z"
    }
   },
   "cell_type": "code",
   "source": [
    "# Save processed dataset\n",
    "df.to_csv(\"processed_dataset.csv\", index=False)"
   ],
   "id": "6520070fb3c85b06",
   "outputs": [],
   "execution_count": 10
  }
 ],
 "metadata": {
  "kernelspec": {
   "display_name": "Python 3",
   "language": "python",
   "name": "python3"
  },
  "language_info": {
   "codemirror_mode": {
    "name": "ipython",
    "version": 2
   },
   "file_extension": ".py",
   "mimetype": "text/x-python",
   "name": "python",
   "nbconvert_exporter": "python",
   "pygments_lexer": "ipython2",
   "version": "2.7.6"
  }
 },
 "nbformat": 4,
 "nbformat_minor": 5
}
