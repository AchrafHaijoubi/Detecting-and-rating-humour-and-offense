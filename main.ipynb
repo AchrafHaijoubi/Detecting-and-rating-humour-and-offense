{
 "cells": [
  {
   "cell_type": "code",
   "execution_count": 7,
   "metadata": {},
   "outputs": [
    {
     "name": "stdout",
     "output_type": "stream",
     "text": [
      "Collecting keybert\n",
      "  Downloading keybert-0.9.0-py3-none-any.whl.metadata (15 kB)\n",
      "Requirement already satisfied: numpy>=1.18.5 in c:\\users\\pc\\appdata\\local\\programs\\python\\python312\\lib\\site-packages (from keybert) (2.1.3)\n",
      "Collecting rich>=10.4.0 (from keybert)\n",
      "  Downloading rich-13.9.4-py3-none-any.whl.metadata (18 kB)\n",
      "Requirement already satisfied: scikit-learn>=0.22.2 in c:\\users\\pc\\appdata\\local\\programs\\python\\python312\\lib\\site-packages (from keybert) (1.5.2)\n",
      "Collecting sentence-transformers>=0.3.8 (from keybert)\n",
      "  Downloading sentence_transformers-3.4.1-py3-none-any.whl.metadata (10 kB)\n",
      "Collecting markdown-it-py>=2.2.0 (from rich>=10.4.0->keybert)\n",
      "  Downloading markdown_it_py-3.0.0-py3-none-any.whl.metadata (6.9 kB)\n",
      "Requirement already satisfied: pygments<3.0.0,>=2.13.0 in c:\\users\\pc\\appdata\\roaming\\python\\python312\\site-packages (from rich>=10.4.0->keybert) (2.18.0)\n",
      "Requirement already satisfied: scipy>=1.6.0 in c:\\users\\pc\\appdata\\local\\programs\\python\\python312\\lib\\site-packages (from scikit-learn>=0.22.2->keybert) (1.14.1)\n",
      "Requirement already satisfied: joblib>=1.2.0 in c:\\users\\pc\\appdata\\local\\programs\\python\\python312\\lib\\site-packages (from scikit-learn>=0.22.2->keybert) (1.4.2)\n",
      "Requirement already satisfied: threadpoolctl>=3.1.0 in c:\\users\\pc\\appdata\\local\\programs\\python\\python312\\lib\\site-packages (from scikit-learn>=0.22.2->keybert) (3.5.0)\n",
      "Requirement already satisfied: transformers<5.0.0,>=4.41.0 in c:\\users\\pc\\appdata\\local\\programs\\python\\python312\\lib\\site-packages (from sentence-transformers>=0.3.8->keybert) (4.47.1)\n",
      "Requirement already satisfied: tqdm in c:\\users\\pc\\appdata\\local\\programs\\python\\python312\\lib\\site-packages (from sentence-transformers>=0.3.8->keybert) (4.67.1)\n",
      "Requirement already satisfied: torch>=1.11.0 in c:\\users\\pc\\appdata\\local\\programs\\python\\python312\\lib\\site-packages (from sentence-transformers>=0.3.8->keybert) (2.5.1+cu118)\n",
      "Requirement already satisfied: huggingface-hub>=0.20.0 in c:\\users\\pc\\appdata\\local\\programs\\python\\python312\\lib\\site-packages (from sentence-transformers>=0.3.8->keybert) (0.27.0)\n",
      "Requirement already satisfied: Pillow in c:\\users\\pc\\appdata\\local\\programs\\python\\python312\\lib\\site-packages (from sentence-transformers>=0.3.8->keybert) (11.0.0)\n",
      "Requirement already satisfied: filelock in c:\\users\\pc\\appdata\\local\\programs\\python\\python312\\lib\\site-packages (from huggingface-hub>=0.20.0->sentence-transformers>=0.3.8->keybert) (3.16.1)\n",
      "Requirement already satisfied: fsspec>=2023.5.0 in c:\\users\\pc\\appdata\\local\\programs\\python\\python312\\lib\\site-packages (from huggingface-hub>=0.20.0->sentence-transformers>=0.3.8->keybert) (2024.12.0)\n",
      "Requirement already satisfied: packaging>=20.9 in c:\\users\\pc\\appdata\\roaming\\python\\python312\\site-packages (from huggingface-hub>=0.20.0->sentence-transformers>=0.3.8->keybert) (24.2)\n",
      "Requirement already satisfied: pyyaml>=5.1 in c:\\users\\pc\\appdata\\local\\programs\\python\\python312\\lib\\site-packages (from huggingface-hub>=0.20.0->sentence-transformers>=0.3.8->keybert) (6.0.2)\n",
      "Requirement already satisfied: requests in c:\\users\\pc\\appdata\\local\\programs\\python\\python312\\lib\\site-packages (from huggingface-hub>=0.20.0->sentence-transformers>=0.3.8->keybert) (2.32.3)\n",
      "Requirement already satisfied: typing-extensions>=3.7.4.3 in c:\\users\\pc\\appdata\\local\\programs\\python\\python312\\lib\\site-packages (from huggingface-hub>=0.20.0->sentence-transformers>=0.3.8->keybert) (4.12.2)\n",
      "Collecting mdurl~=0.1 (from markdown-it-py>=2.2.0->rich>=10.4.0->keybert)\n",
      "  Downloading mdurl-0.1.2-py3-none-any.whl.metadata (1.6 kB)\n",
      "Requirement already satisfied: networkx in c:\\users\\pc\\appdata\\local\\programs\\python\\python312\\lib\\site-packages (from torch>=1.11.0->sentence-transformers>=0.3.8->keybert) (3.2.1)\n",
      "Requirement already satisfied: jinja2 in c:\\users\\pc\\appdata\\local\\programs\\python\\python312\\lib\\site-packages (from torch>=1.11.0->sentence-transformers>=0.3.8->keybert) (3.1.3)\n",
      "Requirement already satisfied: setuptools in c:\\users\\pc\\appdata\\local\\programs\\python\\python312\\lib\\site-packages (from torch>=1.11.0->sentence-transformers>=0.3.8->keybert) (70.0.0)\n",
      "Requirement already satisfied: sympy==1.13.1 in c:\\users\\pc\\appdata\\local\\programs\\python\\python312\\lib\\site-packages (from torch>=1.11.0->sentence-transformers>=0.3.8->keybert) (1.13.1)\n",
      "Requirement already satisfied: mpmath<1.4,>=1.1.0 in c:\\users\\pc\\appdata\\local\\programs\\python\\python312\\lib\\site-packages (from sympy==1.13.1->torch>=1.11.0->sentence-transformers>=0.3.8->keybert) (1.3.0)\n",
      "Requirement already satisfied: colorama in c:\\users\\pc\\appdata\\roaming\\python\\python312\\site-packages (from tqdm->sentence-transformers>=0.3.8->keybert) (0.4.6)\n",
      "Requirement already satisfied: regex!=2019.12.17 in c:\\users\\pc\\appdata\\local\\programs\\python\\python312\\lib\\site-packages (from transformers<5.0.0,>=4.41.0->sentence-transformers>=0.3.8->keybert) (2024.11.6)\n",
      "Requirement already satisfied: tokenizers<0.22,>=0.21 in c:\\users\\pc\\appdata\\local\\programs\\python\\python312\\lib\\site-packages (from transformers<5.0.0,>=4.41.0->sentence-transformers>=0.3.8->keybert) (0.21.0)\n",
      "Requirement already satisfied: safetensors>=0.4.1 in c:\\users\\pc\\appdata\\local\\programs\\python\\python312\\lib\\site-packages (from transformers<5.0.0,>=4.41.0->sentence-transformers>=0.3.8->keybert) (0.4.5)\n",
      "Requirement already satisfied: MarkupSafe>=2.0 in c:\\users\\pc\\appdata\\local\\programs\\python\\python312\\lib\\site-packages (from jinja2->torch>=1.11.0->sentence-transformers>=0.3.8->keybert) (2.1.5)\n",
      "Requirement already satisfied: charset-normalizer<4,>=2 in c:\\users\\pc\\appdata\\local\\programs\\python\\python312\\lib\\site-packages (from requests->huggingface-hub>=0.20.0->sentence-transformers>=0.3.8->keybert) (3.4.1)\n",
      "Requirement already satisfied: idna<4,>=2.5 in c:\\users\\pc\\appdata\\local\\programs\\python\\python312\\lib\\site-packages (from requests->huggingface-hub>=0.20.0->sentence-transformers>=0.3.8->keybert) (3.10)\n",
      "Requirement already satisfied: urllib3<3,>=1.21.1 in c:\\users\\pc\\appdata\\local\\programs\\python\\python312\\lib\\site-packages (from requests->huggingface-hub>=0.20.0->sentence-transformers>=0.3.8->keybert) (2.3.0)\n",
      "Requirement already satisfied: certifi>=2017.4.17 in c:\\users\\pc\\appdata\\local\\programs\\python\\python312\\lib\\site-packages (from requests->huggingface-hub>=0.20.0->sentence-transformers>=0.3.8->keybert) (2024.12.14)\n",
      "Downloading keybert-0.9.0-py3-none-any.whl (41 kB)\n",
      "Downloading rich-13.9.4-py3-none-any.whl (242 kB)\n",
      "Downloading sentence_transformers-3.4.1-py3-none-any.whl (275 kB)\n",
      "Downloading markdown_it_py-3.0.0-py3-none-any.whl (87 kB)\n",
      "Downloading mdurl-0.1.2-py3-none-any.whl (10.0 kB)\n",
      "Installing collected packages: mdurl, markdown-it-py, rich, sentence-transformers, keybert\n",
      "Successfully installed keybert-0.9.0 markdown-it-py-3.0.0 mdurl-0.1.2 rich-13.9.4 sentence-transformers-3.4.1\n",
      "Note: you may need to restart the kernel to use updated packages.\n"
     ]
    },
    {
     "name": "stderr",
     "output_type": "stream",
     "text": [
      "\n",
      "[notice] A new release of pip is available: 24.2 -> 25.0.1\n",
      "[notice] To update, run: python.exe -m pip install --upgrade pip\n"
     ]
    }
   ],
   "source": [
    "pip install keybert "
   ]
  },
  {
   "cell_type": "code",
   "execution_count": 40,
   "metadata": {},
   "outputs": [],
   "source": [
    "import pandas as pd \n",
    "import numpy as np \n",
    "import matplotlib.pyplot as plt\n",
    "from collections import Counter\n",
    "from nltk.corpus import stopwords\n",
    "import nltk\n",
    "import re\n",
    "import emoji\n",
    "from keybert import KeyBERT\n",
    "from sentence_transformers import SentenceTransformer\n",
    "from sklearn.utils import resample"
   ]
  },
  {
   "cell_type": "code",
   "execution_count": 9,
   "metadata": {},
   "outputs": [],
   "source": [
    "data = pd.read_csv(\"data/shortjokes.csv\" , index_col=0)"
   ]
  },
  {
   "cell_type": "code",
   "execution_count": 10,
   "metadata": {},
   "outputs": [
    {
     "data": {
      "text/html": [
       "<div>\n",
       "<style scoped>\n",
       "    .dataframe tbody tr th:only-of-type {\n",
       "        vertical-align: middle;\n",
       "    }\n",
       "\n",
       "    .dataframe tbody tr th {\n",
       "        vertical-align: top;\n",
       "    }\n",
       "\n",
       "    .dataframe thead th {\n",
       "        text-align: right;\n",
       "    }\n",
       "</style>\n",
       "<table border=\"1\" class=\"dataframe\">\n",
       "  <thead>\n",
       "    <tr style=\"text-align: right;\">\n",
       "      <th></th>\n",
       "      <th>Joke</th>\n",
       "    </tr>\n",
       "    <tr>\n",
       "      <th>ID</th>\n",
       "      <th></th>\n",
       "    </tr>\n",
       "  </thead>\n",
       "  <tbody>\n",
       "    <tr>\n",
       "      <th>1</th>\n",
       "      <td>[me narrating a documentary about narrators] \"...</td>\n",
       "    </tr>\n",
       "    <tr>\n",
       "      <th>2</th>\n",
       "      <td>Telling my daughter garlic is good for you. Go...</td>\n",
       "    </tr>\n",
       "    <tr>\n",
       "      <th>3</th>\n",
       "      <td>I've been going through a really rough period ...</td>\n",
       "    </tr>\n",
       "    <tr>\n",
       "      <th>4</th>\n",
       "      <td>If I could have dinner with anyone, dead or al...</td>\n",
       "    </tr>\n",
       "    <tr>\n",
       "      <th>5</th>\n",
       "      <td>Two guys walk into a bar. The third guy ducks.</td>\n",
       "    </tr>\n",
       "    <tr>\n",
       "      <th>6</th>\n",
       "      <td>Why can't Barbie get pregnant? Because Ken com...</td>\n",
       "    </tr>\n",
       "    <tr>\n",
       "      <th>7</th>\n",
       "      <td>Why was the musician arrested? He got in treble.</td>\n",
       "    </tr>\n",
       "    <tr>\n",
       "      <th>8</th>\n",
       "      <td>Did you hear about the guy who blew his entire...</td>\n",
       "    </tr>\n",
       "    <tr>\n",
       "      <th>9</th>\n",
       "      <td>What do you do if a bird shits on your car? Do...</td>\n",
       "    </tr>\n",
       "    <tr>\n",
       "      <th>10</th>\n",
       "      <td>He was a real gentlemen and always opened the ...</td>\n",
       "    </tr>\n",
       "  </tbody>\n",
       "</table>\n",
       "</div>"
      ],
      "text/plain": [
       "                                                 Joke\n",
       "ID                                                   \n",
       "1   [me narrating a documentary about narrators] \"...\n",
       "2   Telling my daughter garlic is good for you. Go...\n",
       "3   I've been going through a really rough period ...\n",
       "4   If I could have dinner with anyone, dead or al...\n",
       "5      Two guys walk into a bar. The third guy ducks.\n",
       "6   Why can't Barbie get pregnant? Because Ken com...\n",
       "7    Why was the musician arrested? He got in treble.\n",
       "8   Did you hear about the guy who blew his entire...\n",
       "9   What do you do if a bird shits on your car? Do...\n",
       "10  He was a real gentlemen and always opened the ..."
      ]
     },
     "execution_count": 10,
     "metadata": {},
     "output_type": "execute_result"
    }
   ],
   "source": [
    "data.head(10)"
   ]
  },
  {
   "cell_type": "code",
   "execution_count": 11,
   "metadata": {},
   "outputs": [
    {
     "name": "stdout",
     "output_type": "stream",
     "text": [
      "<class 'pandas.core.frame.DataFrame'>\n",
      "Index: 231657 entries, 1 to 231657\n",
      "Data columns (total 1 columns):\n",
      " #   Column  Non-Null Count   Dtype \n",
      "---  ------  --------------   ----- \n",
      " 0   Joke    231657 non-null  object\n",
      "dtypes: object(1)\n",
      "memory usage: 3.5+ MB\n"
     ]
    }
   ],
   "source": [
    "data.info()"
   ]
  },
  {
   "cell_type": "code",
   "execution_count": 12,
   "metadata": {},
   "outputs": [
    {
     "data": {
      "text/plain": [
       "Joke    0\n",
       "dtype: int64"
      ]
     },
     "execution_count": 12,
     "metadata": {},
     "output_type": "execute_result"
    }
   ],
   "source": [
    "data.isna().sum()"
   ]
  },
  {
   "cell_type": "markdown",
   "metadata": {},
   "source": [
    "#### Nettoyage du texte "
   ]
  },
  {
   "cell_type": "code",
   "execution_count": 13,
   "metadata": {},
   "outputs": [],
   "source": [
    "# Fonction pour le nettoyage du texte\n",
    "def clean_text(text):\n",
    "    if not isinstance(text, str):\n",
    "        return \"\"\n",
    "\n",
    "    # Convertir en minuscules\n",
    "    text = text.lower()\n",
    "    \n",
    "    # Supprimer les emojis et le remplacer par des espaces\n",
    "    text = emoji.replace_emoji(text, replace='')  \n",
    "\n",
    "    # Supprimer les URL\n",
    "    text = re.sub(r'http\\S+|www\\S+', '', text)\n",
    "    \n",
    "    # Supprimer les caractères spéciaux sauf la ponctuation pertinente\n",
    "    text = re.sub(r\"[^a-zA-Z0-9\\s!?.,']\", \"\", text)\n",
    "    \n",
    "    # Supprimer les espaces en trop\n",
    "    text = re.sub(r'\\s+', ' ', text).strip()\n",
    "    \n",
    "    return text"
   ]
  },
  {
   "cell_type": "code",
   "execution_count": 14,
   "metadata": {},
   "outputs": [
    {
     "name": "stdout",
     "output_type": "stream",
     "text": [
      "                                                 Joke  \\\n",
      "ID                                                      \n",
      "1   [me narrating a documentary about narrators] \"...   \n",
      "2   Telling my daughter garlic is good for you. Go...   \n",
      "3   I've been going through a really rough period ...   \n",
      "4   If I could have dinner with anyone, dead or al...   \n",
      "5      Two guys walk into a bar. The third guy ducks.   \n",
      "\n",
      "                                         Joke_Cleaned  \n",
      "ID                                                     \n",
      "1   me narrating a documentary about narrators i c...  \n",
      "2   telling my daughter garlic is good for you. go...  \n",
      "3   i've been going through a really rough period ...  \n",
      "4   if i could have dinner with anyone, dead or al...  \n",
      "5      two guys walk into a bar. the third guy ducks.  \n"
     ]
    }
   ],
   "source": [
    "# Nettoyer la colonne \"Joke\"\n",
    "data[\"Joke_Cleaned\"] = data[\"Joke\"].apply(clean_text)\n",
    "\n",
    "# Afficher un aperçu des blagues nettoyées\n",
    "print(data[[\"Joke\", \"Joke_Cleaned\"]].head())"
   ]
  },
  {
   "cell_type": "markdown",
   "metadata": {},
   "source": [
    "#### Détection et suppression des doublons"
   ]
  },
  {
   "cell_type": "code",
   "execution_count": 15,
   "metadata": {},
   "outputs": [
    {
     "name": "stdout",
     "output_type": "stream",
     "text": [
      "Nombre de blagues en double : 1493\n"
     ]
    }
   ],
   "source": [
    "# Vérifier le nombre de doublons exacts\n",
    "nb_doublons_exact = data.duplicated(subset=[\"Joke_Cleaned\"]).sum()\n",
    "print(f\"Nombre de blagues en double : {nb_doublons_exact}\")"
   ]
  },
  {
   "cell_type": "code",
   "execution_count": 16,
   "metadata": {},
   "outputs": [],
   "source": [
    "# Supprimer les doublons exacts\n",
    "data = data.drop_duplicates(subset=[\"Joke_Cleaned\"], keep=\"first\")"
   ]
  },
  {
   "cell_type": "code",
   "execution_count": 17,
   "metadata": {},
   "outputs": [
    {
     "name": "stdout",
     "output_type": "stream",
     "text": [
      "<class 'pandas.core.frame.DataFrame'>\n",
      "Index: 230164 entries, 1 to 231657\n",
      "Data columns (total 2 columns):\n",
      " #   Column        Non-Null Count   Dtype \n",
      "---  ------        --------------   ----- \n",
      " 0   Joke          230164 non-null  object\n",
      " 1   Joke_Cleaned  230164 non-null  object\n",
      "dtypes: object(2)\n",
      "memory usage: 5.3+ MB\n"
     ]
    }
   ],
   "source": [
    "data.info()"
   ]
  },
  {
   "cell_type": "markdown",
   "metadata": {},
   "source": [
    "#### Détection et suppression des valeurs manquantes "
   ]
  },
  {
   "cell_type": "code",
   "execution_count": 18,
   "metadata": {},
   "outputs": [
    {
     "name": "stdout",
     "output_type": "stream",
     "text": [
      "Nombre de blagues NaN : 0\n",
      "Nombre de blagues vides : 1\n"
     ]
    }
   ],
   "source": [
    "nb_nan = data[\"Joke_Cleaned\"].isna().sum()\n",
    "nb_empty = (data[\"Joke_Cleaned\"].str.strip() == \"\").sum()\n",
    "print(f\"Nombre de blagues NaN : {nb_nan}\")\n",
    "print(f\"Nombre de blagues vides : {nb_empty}\")"
   ]
  },
  {
   "cell_type": "markdown",
   "metadata": {},
   "source": [
    "Il existe une seule blague vide qu'on va supprimer"
   ]
  },
  {
   "cell_type": "code",
   "execution_count": 19,
   "metadata": {},
   "outputs": [],
   "source": [
    "data = data.dropna(subset=[\"Joke_Cleaned\"])\n",
    "data = data[data[\"Joke_Cleaned\"].str.strip() != \"\"]"
   ]
  },
  {
   "cell_type": "code",
   "execution_count": 20,
   "metadata": {},
   "outputs": [
    {
     "name": "stdout",
     "output_type": "stream",
     "text": [
      "<class 'pandas.core.frame.DataFrame'>\n",
      "Index: 230163 entries, 1 to 231657\n",
      "Data columns (total 2 columns):\n",
      " #   Column        Non-Null Count   Dtype \n",
      "---  ------        --------------   ----- \n",
      " 0   Joke          230163 non-null  object\n",
      " 1   Joke_Cleaned  230163 non-null  object\n",
      "dtypes: object(2)\n",
      "memory usage: 5.3+ MB\n"
     ]
    }
   ],
   "source": [
    "data.info()"
   ]
  },
  {
   "cell_type": "markdown",
   "metadata": {},
   "source": [
    "Normalisation du texte "
   ]
  },
  {
   "cell_type": "code",
   "execution_count": 21,
   "metadata": {},
   "outputs": [],
   "source": [
    "# Dictionnaire des abréviations courantes\n",
    "abbreviations = {\n",
    "    \"u\": \"you\",\n",
    "    \"r\": \"are\",\n",
    "    \"ur\": \"your\",\n",
    "    \"lol\": \"laughing out loud\",\n",
    "    \"lmao\": \"laughing my ass off\",\n",
    "    \"rofl\": \"rolling on the floor laughing\",\n",
    "    \"idk\": \"i don't know\",\n",
    "    \"omg\": \"oh my god\",\n",
    "    \"thx\": \"thanks\",\n",
    "    \"ty\": \"thank you\",\n",
    "    \"plz\": \"please\",\n",
    "    \"btw\": \"by the way\"\n",
    "}"
   ]
  },
  {
   "cell_type": "code",
   "execution_count": 22,
   "metadata": {},
   "outputs": [],
   "source": [
    "def normalize_text(text):\n",
    "    # Remplacer les abréviations par leur version complète\n",
    "    words = text.split()\n",
    "    words = [abbreviations[word] if word in abbreviations else word for word in words]\n",
    "    text = \" \".join(words)\n",
    "    \n",
    "    # Réduction des répétitions excessives \n",
    "    text = re.sub(r\"(.)\\1{2,}\", r\"\\1\\1\", text)  \n",
    "    \n",
    "    return text\n",
    "\n",
    "# Appliquer la normalisation sur la colonne \"Joke_Cleaned\"\n",
    "data[\"Joke_Normalized\"] = data[\"Joke_Cleaned\"].apply(normalize_text)"
   ]
  },
  {
   "cell_type": "code",
   "execution_count": 23,
   "metadata": {},
   "outputs": [
    {
     "data": {
      "text/html": [
       "<div>\n",
       "<style scoped>\n",
       "    .dataframe tbody tr th:only-of-type {\n",
       "        vertical-align: middle;\n",
       "    }\n",
       "\n",
       "    .dataframe tbody tr th {\n",
       "        vertical-align: top;\n",
       "    }\n",
       "\n",
       "    .dataframe thead th {\n",
       "        text-align: right;\n",
       "    }\n",
       "</style>\n",
       "<table border=\"1\" class=\"dataframe\">\n",
       "  <thead>\n",
       "    <tr style=\"text-align: right;\">\n",
       "      <th></th>\n",
       "      <th>Joke</th>\n",
       "      <th>Joke_Cleaned</th>\n",
       "      <th>Joke_Normalized</th>\n",
       "    </tr>\n",
       "    <tr>\n",
       "      <th>ID</th>\n",
       "      <th></th>\n",
       "      <th></th>\n",
       "      <th></th>\n",
       "    </tr>\n",
       "  </thead>\n",
       "  <tbody>\n",
       "    <tr>\n",
       "      <th>1</th>\n",
       "      <td>[me narrating a documentary about narrators] \"...</td>\n",
       "      <td>me narrating a documentary about narrators i c...</td>\n",
       "      <td>me narrating a documentary about narrators i c...</td>\n",
       "    </tr>\n",
       "    <tr>\n",
       "      <th>2</th>\n",
       "      <td>Telling my daughter garlic is good for you. Go...</td>\n",
       "      <td>telling my daughter garlic is good for you. go...</td>\n",
       "      <td>telling my daughter garlic is good for you. go...</td>\n",
       "    </tr>\n",
       "    <tr>\n",
       "      <th>3</th>\n",
       "      <td>I've been going through a really rough period ...</td>\n",
       "      <td>i've been going through a really rough period ...</td>\n",
       "      <td>i've been going through a really rough period ...</td>\n",
       "    </tr>\n",
       "    <tr>\n",
       "      <th>4</th>\n",
       "      <td>If I could have dinner with anyone, dead or al...</td>\n",
       "      <td>if i could have dinner with anyone, dead or al...</td>\n",
       "      <td>if i could have dinner with anyone, dead or al...</td>\n",
       "    </tr>\n",
       "    <tr>\n",
       "      <th>5</th>\n",
       "      <td>Two guys walk into a bar. The third guy ducks.</td>\n",
       "      <td>two guys walk into a bar. the third guy ducks.</td>\n",
       "      <td>two guys walk into a bar. the third guy ducks.</td>\n",
       "    </tr>\n",
       "    <tr>\n",
       "      <th>6</th>\n",
       "      <td>Why can't Barbie get pregnant? Because Ken com...</td>\n",
       "      <td>why can't barbie get pregnant? because ken com...</td>\n",
       "      <td>why can't barbie get pregnant? because ken com...</td>\n",
       "    </tr>\n",
       "    <tr>\n",
       "      <th>7</th>\n",
       "      <td>Why was the musician arrested? He got in treble.</td>\n",
       "      <td>why was the musician arrested? he got in treble.</td>\n",
       "      <td>why was the musician arrested? he got in treble.</td>\n",
       "    </tr>\n",
       "    <tr>\n",
       "      <th>8</th>\n",
       "      <td>Did you hear about the guy who blew his entire...</td>\n",
       "      <td>did you hear about the guy who blew his entire...</td>\n",
       "      <td>did you hear about the guy who blew his entire...</td>\n",
       "    </tr>\n",
       "    <tr>\n",
       "      <th>9</th>\n",
       "      <td>What do you do if a bird shits on your car? Do...</td>\n",
       "      <td>what do you do if a bird shits on your car? do...</td>\n",
       "      <td>what do you do if a bird shits on your car? do...</td>\n",
       "    </tr>\n",
       "    <tr>\n",
       "      <th>10</th>\n",
       "      <td>He was a real gentlemen and always opened the ...</td>\n",
       "      <td>he was a real gentlemen and always opened the ...</td>\n",
       "      <td>he was a real gentlemen and always opened the ...</td>\n",
       "    </tr>\n",
       "  </tbody>\n",
       "</table>\n",
       "</div>"
      ],
      "text/plain": [
       "                                                 Joke  \\\n",
       "ID                                                      \n",
       "1   [me narrating a documentary about narrators] \"...   \n",
       "2   Telling my daughter garlic is good for you. Go...   \n",
       "3   I've been going through a really rough period ...   \n",
       "4   If I could have dinner with anyone, dead or al...   \n",
       "5      Two guys walk into a bar. The third guy ducks.   \n",
       "6   Why can't Barbie get pregnant? Because Ken com...   \n",
       "7    Why was the musician arrested? He got in treble.   \n",
       "8   Did you hear about the guy who blew his entire...   \n",
       "9   What do you do if a bird shits on your car? Do...   \n",
       "10  He was a real gentlemen and always opened the ...   \n",
       "\n",
       "                                         Joke_Cleaned  \\\n",
       "ID                                                      \n",
       "1   me narrating a documentary about narrators i c...   \n",
       "2   telling my daughter garlic is good for you. go...   \n",
       "3   i've been going through a really rough period ...   \n",
       "4   if i could have dinner with anyone, dead or al...   \n",
       "5      two guys walk into a bar. the third guy ducks.   \n",
       "6   why can't barbie get pregnant? because ken com...   \n",
       "7    why was the musician arrested? he got in treble.   \n",
       "8   did you hear about the guy who blew his entire...   \n",
       "9   what do you do if a bird shits on your car? do...   \n",
       "10  he was a real gentlemen and always opened the ...   \n",
       "\n",
       "                                      Joke_Normalized  \n",
       "ID                                                     \n",
       "1   me narrating a documentary about narrators i c...  \n",
       "2   telling my daughter garlic is good for you. go...  \n",
       "3   i've been going through a really rough period ...  \n",
       "4   if i could have dinner with anyone, dead or al...  \n",
       "5      two guys walk into a bar. the third guy ducks.  \n",
       "6   why can't barbie get pregnant? because ken com...  \n",
       "7    why was the musician arrested? he got in treble.  \n",
       "8   did you hear about the guy who blew his entire...  \n",
       "9   what do you do if a bird shits on your car? do...  \n",
       "10  he was a real gentlemen and always opened the ...  "
      ]
     },
     "execution_count": 23,
     "metadata": {},
     "output_type": "execute_result"
    }
   ],
   "source": [
    "data.head(10)"
   ]
  },
  {
   "cell_type": "markdown",
   "metadata": {},
   "source": [
    "Analyse exploratrice"
   ]
  },
  {
   "cell_type": "code",
   "execution_count": 24,
   "metadata": {},
   "outputs": [
    {
     "name": "stdout",
     "output_type": "stream",
     "text": [
      "       Joke_Length_Chars  Joke_Length_Words\n",
      "count      230163.000000      230163.000000\n",
      "mean           91.754496          17.541573\n",
      "std            34.481412           6.846874\n",
      "min             3.000000           1.000000\n",
      "25%            65.000000          12.000000\n",
      "50%            87.000000          17.000000\n",
      "75%           117.000000          22.000000\n",
      "max           255.000000          93.000000\n"
     ]
    },
    {
     "data": {
      "image/png": "[encoded data removed]",
      "text/plain": [
       "<Figure size 1000x500 with 1 Axes>"
      ]
     },
     "metadata": {},
     "output_type": "display_data"
    },
    {
     "data": {
      "image/png": "[encoded data removed]",
      "text/plain": [
       "<Figure size 1000x500 with 1 Axes>"
      ]
     },
     "metadata": {},
     "output_type": "display_data"
    },
    {
     "data": {
      "image/png": "[encoded data removed]",
      "text/plain": [
       "<Figure size 1200x600 with 1 Axes>"
      ]
     },
     "metadata": {},
     "output_type": "display_data"
    }
   ],
   "source": [
    "stop_words = set(stopwords.words('english'))\n",
    "\n",
    "# Calcul de la longueur des blagues \n",
    "data[\"Joke_Length_Chars\"] = data[\"Joke_Normalized\"].apply(len)\n",
    "data[\"Joke_Length_Words\"] = data[\"Joke_Normalized\"].apply(lambda x: len(x.split()))\n",
    "\n",
    "# Afficher les statistiques de longueur\n",
    "print(data[[\"Joke_Length_Chars\", \"Joke_Length_Words\"]].describe())\n",
    "\n",
    "# Distribution des longueurs en caractères\n",
    "plt.figure(figsize=(10, 5))\n",
    "plt.hist(data[\"Joke_Length_Chars\"], bins=30, edgecolor=\"black\", alpha=0.7)\n",
    "plt.xlabel(\"Nombre de caractères\")\n",
    "plt.ylabel(\"Nombre de blagues\")\n",
    "plt.title(\"Distribution de la longueur des blagues (en caractères)\")\n",
    "plt.show()\n",
    "\n",
    "# Distribution des longueurs en mots\n",
    "plt.figure(figsize=(10, 5))\n",
    "plt.hist(data[\"Joke_Length_Words\"], bins=30, edgecolor=\"black\", alpha=0.7)\n",
    "plt.xlabel(\"Nombre de mots\")\n",
    "plt.ylabel(\"Nombre de blagues\")\n",
    "plt.title(\"Distribution de la longueur des blagues (en mots)\")\n",
    "plt.show()\n",
    "\n",
    "# Identification des mots les plus fréquents \n",
    "all_words = \" \".join(data[\"Joke_Normalized\"]).split()\n",
    "filtered_words = [word for word in all_words if word.lower() not in stop_words]\n",
    "\n",
    "# Compter les occurrences des mots\n",
    "word_counts = Counter(filtered_words)\n",
    "most_common_words = word_counts.most_common(20)\n",
    "\n",
    "# Affichage des mots les plus fréquents\n",
    "words, counts = zip(*most_common_words)\n",
    "plt.figure(figsize=(12, 6))\n",
    "plt.bar(words, counts, color=\"skyblue\", edgecolor=\"black\")\n",
    "plt.xticks(rotation=45)\n",
    "plt.xlabel(\"Mots\")\n",
    "plt.ylabel(\"Fréquence\")\n",
    "plt.title(\"Mots les plus fréquents dans les blagues\")\n",
    "plt.show()"
   ]
  },
  {
   "cell_type": "code",
   "execution_count": 27,
   "metadata": {},
   "outputs": [
    {
     "name": "stdout",
     "output_type": "stream",
     "text": [
      "<class 'pandas.core.frame.DataFrame'>\n",
      "Index: 230163 entries, 1 to 231657\n",
      "Data columns (total 5 columns):\n",
      " #   Column             Non-Null Count   Dtype \n",
      "---  ------             --------------   ----- \n",
      " 0   Joke               230163 non-null  object\n",
      " 1   Joke_Cleaned       230163 non-null  object\n",
      " 2   Joke_Normalized    230163 non-null  object\n",
      " 3   Joke_Length_Chars  230163 non-null  int64 \n",
      " 4   Joke_Length_Words  230163 non-null  int64 \n",
      "dtypes: int64(2), object(3)\n",
      "memory usage: 10.5+ MB\n"
     ]
    }
   ],
   "source": [
    "data.info()"
   ]
  },
  {
   "cell_type": "markdown",
   "metadata": {},
   "source": [
    "Annotation des blagues"
   ]
  },
  {
   "cell_type": "code",
   "execution_count": 29,
   "metadata": {},
   "outputs": [
    {
     "name": "stderr",
     "output_type": "stream",
     "text": [
      "[nltk_data] Downloading package wordnet to\n",
      "[nltk_data]     C:\\Users\\Pc\\AppData\\Roaming\\nltk_data...\n",
      "[nltk_data]   Package wordnet is already up-to-date!\n"
     ]
    }
   ],
   "source": [
    "# Télécharger les ressources NLTK\n",
    "nltk.download(\"wordnet\")\n",
    "\n",
    "# Initialiser KeyBERT et SentenceTransformer\n",
    "kw_model = KeyBERT(\"all-MiniLM-L6-v2\")\n",
    "sentence_model = SentenceTransformer(\"all-MiniLM-L6-v2\")\n",
    "\n",
    "# Liste de mots offensants \n",
    "offensive_words = [\n",
    "    \"sex\", \"gender\", \"womanizer\", \"feminist\", \"chauvinist\", \"misogynist\",\n",
    "    \"misandrist\", \"patriarchy\", \"matriarchy\",\n",
    "    \n",
    "    \"racism\", \"racist\", \"black\", \"white\", \"asian\", \"african\", \"indian\",\n",
    "    \"nigger\", \"cracker\", \"slur\", \"latino\", \"hispanic\", \"jew\", \"antisemitic\",\n",
    "    \"arab\", \"middle eastern\", \"xenophobia\", \"immigrant\",\n",
    "    \n",
    "    \"penis\", \"vagina\", \"breast\", \"boobs\", \"dick\", \"cock\", \"pussy\", \"butt\",\n",
    "    \"anus\", \"testicle\", \"scrotum\", \"nipple\", \"semen\", \"sperm\", \"condom\",\n",
    "    \"masturbate\", \"ejaculate\", \"rape\", \"molest\", \"abuse\", \"hooker\", \n",
    "    \"prostitute\", \"whore\", \"slut\", \"porn\", \"pornography\", \"fetish\",\n",
    "    \"orgy\", \"orgasm\", \"clitoris\", \"labia\", \"erection\", \"virginity\",\n",
    "    \n",
    "    \"dumb\", \"idiot\", \"moron\", \"retard\", \"cripple\",\n",
    "    \"gay\", \"lesbian\", \"homosexual\", \"bisexual\", \"transgender\", \n",
    "    \"queer\", \"homo\", \"tranny\", \"dyke\", \"fag\", \"pervert\", \n",
    "    \"harass\", \"molestation\", \"pedophile\", \"incest\"\n",
    "]"
   ]
  },
  {
   "cell_type": "code",
   "execution_count": 30,
   "metadata": {},
   "outputs": [],
   "source": [
    "# Fonction pour extraire les mots-clés d'une blague\n",
    "def extract_keywords(text):\n",
    "    keywords = kw_model.extract_keywords(text, keyphrase_ngram_range=(1, 2), stop_words=\"english\", top_n=5)\n",
    "    return [kw[0] for kw in keywords]"
   ]
  },
  {
   "cell_type": "code",
   "execution_count": 31,
   "metadata": {},
   "outputs": [],
   "source": [
    "# Fonction pour détecter si une blague est offensive\n",
    "def detect_offensive(text):\n",
    "    keywords = extract_keywords(text)\n",
    "    return int(any(word in offensive_words for word in keywords))"
   ]
  },
  {
   "cell_type": "code",
   "execution_count": 32,
   "metadata": {},
   "outputs": [],
   "source": [
    "# Appliquer l'annotation automatique\n",
    "data[\"Offensive_Label\"] = data[\"Joke_Normalized\"].apply(detect_offensive)"
   ]
  },
  {
   "cell_type": "code",
   "execution_count": 33,
   "metadata": {},
   "outputs": [],
   "source": [
    "# Sauvegarder le dataset annoté\n",
    "data.to_csv(\"dataset_annotated.csv\", index=False)"
   ]
  },
  {
   "cell_type": "code",
   "execution_count": null,
   "metadata": {},
   "outputs": [
    {
     "data": {
      "text/html": [
       "<div>\n",
       "<style scoped>\n",
       "    .dataframe tbody tr th:only-of-type {\n",
       "        vertical-align: middle;\n",
       "    }\n",
       "\n",
       "    .dataframe tbody tr th {\n",
       "        vertical-align: top;\n",
       "    }\n",
       "\n",
       "    .dataframe thead th {\n",
       "        text-align: right;\n",
       "    }\n",
       "</style>\n",
       "<table border=\"1\" class=\"dataframe\">\n",
       "  <thead>\n",
       "    <tr style=\"text-align: right;\">\n",
       "      <th></th>\n",
       "      <th>Joke</th>\n",
       "      <th>Joke_Cleaned</th>\n",
       "      <th>Joke_Normalized</th>\n",
       "      <th>Joke_Length_Chars</th>\n",
       "      <th>Joke_Length_Words</th>\n",
       "      <th>Offensive_Label</th>\n",
       "    </tr>\n",
       "    <tr>\n",
       "      <th>ID</th>\n",
       "      <th></th>\n",
       "      <th></th>\n",
       "      <th></th>\n",
       "      <th></th>\n",
       "      <th></th>\n",
       "      <th></th>\n",
       "    </tr>\n",
       "  </thead>\n",
       "  <tbody>\n",
       "    <tr>\n",
       "      <th>1</th>\n",
       "      <td>[me narrating a documentary about narrators] \"...</td>\n",
       "      <td>me narrating a documentary about narrators i c...</td>\n",
       "      <td>me narrating a documentary about narrators i c...</td>\n",
       "      <td>91</td>\n",
       "      <td>15</td>\n",
       "      <td>0</td>\n",
       "    </tr>\n",
       "    <tr>\n",
       "      <th>2</th>\n",
       "      <td>Telling my daughter garlic is good for you. Go...</td>\n",
       "      <td>telling my daughter garlic is good for you. go...</td>\n",
       "      <td>telling my daughter garlic is good for you. go...</td>\n",
       "      <td>117</td>\n",
       "      <td>18</td>\n",
       "      <td>0</td>\n",
       "    </tr>\n",
       "    <tr>\n",
       "      <th>3</th>\n",
       "      <td>I've been going through a really rough period ...</td>\n",
       "      <td>i've been going through a really rough period ...</td>\n",
       "      <td>i've been going through a really rough period ...</td>\n",
       "      <td>120</td>\n",
       "      <td>23</td>\n",
       "      <td>0</td>\n",
       "    </tr>\n",
       "    <tr>\n",
       "      <th>4</th>\n",
       "      <td>If I could have dinner with anyone, dead or al...</td>\n",
       "      <td>if i could have dinner with anyone, dead or al...</td>\n",
       "      <td>if i could have dinner with anyone, dead or al...</td>\n",
       "      <td>86</td>\n",
       "      <td>16</td>\n",
       "      <td>0</td>\n",
       "    </tr>\n",
       "    <tr>\n",
       "      <th>5</th>\n",
       "      <td>Two guys walk into a bar. The third guy ducks.</td>\n",
       "      <td>two guys walk into a bar. the third guy ducks.</td>\n",
       "      <td>two guys walk into a bar. the third guy ducks.</td>\n",
       "      <td>46</td>\n",
       "      <td>10</td>\n",
       "      <td>0</td>\n",
       "    </tr>\n",
       "    <tr>\n",
       "      <th>6</th>\n",
       "      <td>Why can't Barbie get pregnant? Because Ken com...</td>\n",
       "      <td>why can't barbie get pregnant? because ken com...</td>\n",
       "      <td>why can't barbie get pregnant? because ken com...</td>\n",
       "      <td>74</td>\n",
       "      <td>13</td>\n",
       "      <td>0</td>\n",
       "    </tr>\n",
       "    <tr>\n",
       "      <th>7</th>\n",
       "      <td>Why was the musician arrested? He got in treble.</td>\n",
       "      <td>why was the musician arrested? he got in treble.</td>\n",
       "      <td>why was the musician arrested? he got in treble.</td>\n",
       "      <td>48</td>\n",
       "      <td>9</td>\n",
       "      <td>0</td>\n",
       "    </tr>\n",
       "    <tr>\n",
       "      <th>8</th>\n",
       "      <td>Did you hear about the guy who blew his entire...</td>\n",
       "      <td>did you hear about the guy who blew his entire...</td>\n",
       "      <td>did you hear about the guy who blew his entire...</td>\n",
       "      <td>116</td>\n",
       "      <td>22</td>\n",
       "      <td>0</td>\n",
       "    </tr>\n",
       "    <tr>\n",
       "      <th>9</th>\n",
       "      <td>What do you do if a bird shits on your car? Do...</td>\n",
       "      <td>what do you do if a bird shits on your car? do...</td>\n",
       "      <td>what do you do if a bird shits on your car? do...</td>\n",
       "      <td>68</td>\n",
       "      <td>16</td>\n",
       "      <td>0</td>\n",
       "    </tr>\n",
       "    <tr>\n",
       "      <th>10</th>\n",
       "      <td>He was a real gentlemen and always opened the ...</td>\n",
       "      <td>he was a real gentlemen and always opened the ...</td>\n",
       "      <td>he was a real gentlemen and always opened the ...</td>\n",
       "      <td>64</td>\n",
       "      <td>13</td>\n",
       "      <td>0</td>\n",
       "    </tr>\n",
       "  </tbody>\n",
       "</table>\n",
       "</div>"
      ],
      "text/plain": [
       "                                                 Joke  \\\n",
       "ID                                                      \n",
       "1   [me narrating a documentary about narrators] \"...   \n",
       "2   Telling my daughter garlic is good for you. Go...   \n",
       "3   I've been going through a really rough period ...   \n",
       "4   If I could have dinner with anyone, dead or al...   \n",
       "5      Two guys walk into a bar. The third guy ducks.   \n",
       "6   Why can't Barbie get pregnant? Because Ken com...   \n",
       "7    Why was the musician arrested? He got in treble.   \n",
       "8   Did you hear about the guy who blew his entire...   \n",
       "9   What do you do if a bird shits on your car? Do...   \n",
       "10  He was a real gentlemen and always opened the ...   \n",
       "\n",
       "                                         Joke_Cleaned  \\\n",
       "ID                                                      \n",
       "1   me narrating a documentary about narrators i c...   \n",
       "2   telling my daughter garlic is good for you. go...   \n",
       "3   i've been going through a really rough period ...   \n",
       "4   if i could have dinner with anyone, dead or al...   \n",
       "5      two guys walk into a bar. the third guy ducks.   \n",
       "6   why can't barbie get pregnant? because ken com...   \n",
       "7    why was the musician arrested? he got in treble.   \n",
       "8   did you hear about the guy who blew his entire...   \n",
       "9   what do you do if a bird shits on your car? do...   \n",
       "10  he was a real gentlemen and always opened the ...   \n",
       "\n",
       "                                      Joke_Normalized  Joke_Length_Chars  \\\n",
       "ID                                                                         \n",
       "1   me narrating a documentary about narrators i c...                 91   \n",
       "2   telling my daughter garlic is good for you. go...                117   \n",
       "3   i've been going through a really rough period ...                120   \n",
       "4   if i could have dinner with anyone, dead or al...                 86   \n",
       "5      two guys walk into a bar. the third guy ducks.                 46   \n",
       "6   why can't barbie get pregnant? because ken com...                 74   \n",
       "7    why was the musician arrested? he got in treble.                 48   \n",
       "8   did you hear about the guy who blew his entire...                116   \n",
       "9   what do you do if a bird shits on your car? do...                 68   \n",
       "10  he was a real gentlemen and always opened the ...                 64   \n",
       "\n",
       "    Joke_Length_Words  Offensive_Label  \n",
       "ID                                      \n",
       "1                  15                0  \n",
       "2                  18                0  \n",
       "3                  23                0  \n",
       "4                  16                0  \n",
       "5                  10                0  \n",
       "6                  13                0  \n",
       "7                   9                0  \n",
       "8                  22                0  \n",
       "9                  16                0  \n",
       "10                 13                0  "
      ]
     },
     "execution_count": 34,
     "metadata": {},
     "output_type": "execute_result"
    }
   ],
   "source": [
    "data.head(10)"
   ]
  },
  {
   "cell_type": "code",
   "execution_count": 37,
   "metadata": {},
   "outputs": [
    {
     "name": "stdout",
     "output_type": "stream",
     "text": [
      "Offensive_Label\n",
      "0    222858\n",
      "1      7305\n",
      "Name: count, dtype: int64\n"
     ]
    }
   ],
   "source": [
    "print(data['Offensive_Label'].value_counts())"
   ]
  },
  {
   "cell_type": "markdown",
   "metadata": {},
   "source": [
    "On constate un déséquilibre entre les deux classes : le dataset contient 222 858 blagues non offensantes contre seulement 7 305 blagues offensantes. Pour remédier à cette disparité, nous allons appliquer un sous-échantillonnage (undersampling) en réduisant le nombre de blagues non offensantes afin d'obtenir un jeu de données plus équilibré."
   ]
  },
  {
   "cell_type": "code",
   "execution_count": 42,
   "metadata": {},
   "outputs": [],
   "source": [
    "# Appliquer le sous-échantillonnage\n",
    "\n",
    "data_offensive = data[data[\"Offensive_Label\"] == 1]\n",
    "data_non_offensive = data[data[\"Offensive_Label\"] == 0]\n",
    "\n",
    "# Sous-échantillonnage des blagues non offensantes pour équilibrer les classes\n",
    "data_non_offensive_sampled = resample(data_non_offensive, \n",
    "                                      replace=False, \n",
    "                                      n_samples=len(data_offensive), \n",
    "                                      random_state=42)\n",
    "\n",
    "# Concaténer les deux datasets équilibrés\n",
    "data_balanced = pd.concat([data_offensive, data_non_offensive_sampled])"
   ]
  },
  {
   "cell_type": "code",
   "execution_count": 43,
   "metadata": {},
   "outputs": [],
   "source": [
    "# Sauvegarder le dataset annoté et équilibré\n",
    "data_balanced.to_csv(\"dataset_annotated_balanced.csv\", index=False)"
   ]
  },
  {
   "cell_type": "code",
   "execution_count": 45,
   "metadata": {},
   "outputs": [
    {
     "name": "stdout",
     "output_type": "stream",
     "text": [
      "<class 'pandas.core.frame.DataFrame'>\n",
      "Index: 14610 entries, 73 to 192182\n",
      "Data columns (total 6 columns):\n",
      " #   Column             Non-Null Count  Dtype \n",
      "---  ------             --------------  ----- \n",
      " 0   Joke               14610 non-null  object\n",
      " 1   Joke_Cleaned       14610 non-null  object\n",
      " 2   Joke_Normalized    14610 non-null  object\n",
      " 3   Joke_Length_Chars  14610 non-null  int64 \n",
      " 4   Joke_Length_Words  14610 non-null  int64 \n",
      " 5   Offensive_Label    14610 non-null  int64 \n",
      "dtypes: int64(3), object(3)\n",
      "memory usage: 799.0+ KB\n"
     ]
    }
   ],
   "source": [
    "data_balanced.info()"
   ]
  },
  {
   "cell_type": "code",
   "execution_count": 47,
   "metadata": {},
   "outputs": [
    {
     "name": "stdout",
     "output_type": "stream",
     "text": [
      "Offensive_Label\n",
      "1    7305\n",
      "0    7305\n",
      "Name: count, dtype: int64\n"
     ]
    }
   ],
   "source": [
    "print(data_balanced['Offensive_Label'].value_counts())"
   ]
  },
  {
   "cell_type": "code",
   "execution_count": null,
   "metadata": {},
   "outputs": [],
   "source": []
  }
 ],
 "metadata": {
  "kernelspec": {
   "display_name": "Python 3",
   "language": "python",
   "name": "python3"
  },
  "language_info": {
   "codemirror_mode": {
    "name": "ipython",
    "version": 3
   },
   "file_extension": ".py",
   "mimetype": "text/x-python",
   "name": "python",
   "nbconvert_exporter": "python",
   "pygments_lexer": "ipython3",
   "version": "3.12.7"
  }
 },
 "nbformat": 4,
 "nbformat_minor": 2
}
